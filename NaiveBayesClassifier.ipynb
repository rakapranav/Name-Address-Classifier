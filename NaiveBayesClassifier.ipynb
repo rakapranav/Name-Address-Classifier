{
 "cells": [
  {
   "cell_type": "code",
   "execution_count": 19,
   "metadata": {},
   "outputs": [
    {
     "data": {
      "text/html": [
       "<div>\n",
       "<style scoped>\n",
       "    .dataframe tbody tr th:only-of-type {\n",
       "        vertical-align: middle;\n",
       "    }\n",
       "\n",
       "    .dataframe tbody tr th {\n",
       "        vertical-align: top;\n",
       "    }\n",
       "\n",
       "    .dataframe thead th {\n",
       "        text-align: right;\n",
       "    }\n",
       "</style>\n",
       "<table border=\"1\" class=\"dataframe\">\n",
       "  <thead>\n",
       "    <tr style=\"text-align: right;\">\n",
       "      <th></th>\n",
       "      <th>label</th>\n",
       "      <th>value</th>\n",
       "    </tr>\n",
       "  </thead>\n",
       "  <tbody>\n",
       "    <tr>\n",
       "      <th>0</th>\n",
       "      <td>address</td>\n",
       "      <td>s/o saminathan28/3 nagar 3rd , street, korattu...</td>\n",
       "    </tr>\n",
       "    <tr>\n",
       "      <th>1</th>\n",
       "      <td>address</td>\n",
       "      <td>flat 6 ird main 4h nagar, mookordapalli, 635126</td>\n",
       "    </tr>\n",
       "    <tr>\n",
       "      <th>2</th>\n",
       "      <td>address</td>\n",
       "      <td>1169 kaviyarasu kannadasan nagar kodungaiyur ...</td>\n",
       "    </tr>\n",
       "    <tr>\n",
       "      <th>3</th>\n",
       "      <td>address</td>\n",
       "      <td>1568 bhagavath 21. nedumkadu thiruvananthapur...</td>\n",
       "    </tr>\n",
       "    <tr>\n",
       "      <th>4</th>\n",
       "      <td>address</td>\n",
       "      <td>22 nehru colony kumarapalnvam coimbatore ici ...</td>\n",
       "    </tr>\n",
       "  </tbody>\n",
       "</table>\n",
       "</div>"
      ],
      "text/plain": [
       "     label                                              value\n",
       "0  address  s/o saminathan28/3 nagar 3rd , street, korattu...\n",
       "1  address    flat 6 ird main 4h nagar, mookordapalli, 635126\n",
       "2  address   1169 kaviyarasu kannadasan nagar kodungaiyur ...\n",
       "3  address   1568 bhagavath 21. nedumkadu thiruvananthapur...\n",
       "4  address   22 nehru colony kumarapalnvam coimbatore ici ..."
      ]
     },
     "execution_count": 19,
     "metadata": {},
     "output_type": "execute_result"
    }
   ],
   "source": [
    "import pandas as pd\n",
    "df = pd.read_csv('dataset/Naive_Classifier.csv', \n",
    "                   header=None, \n",
    "                   names=['label', 'value'])\n",
    "\n",
    "# Output printing out first 5 rows\n",
    "df.head()"
   ]
  },
  {
   "cell_type": "code",
   "execution_count": 20,
   "metadata": {},
   "outputs": [
    {
     "data": {
      "text/plain": [
       "(180741, 2)"
      ]
     },
     "execution_count": 20,
     "metadata": {},
     "output_type": "execute_result"
    }
   ],
   "source": [
    "# Check the shape of the dataset\n",
    "df.shape"
   ]
  },
  {
   "cell_type": "code",
   "execution_count": 21,
   "metadata": {},
   "outputs": [
    {
     "data": {
      "text/plain": [
       "label    0\n",
       "value    1\n",
       "dtype: int64"
      ]
     },
     "execution_count": 21,
     "metadata": {},
     "output_type": "execute_result"
    }
   ],
   "source": [
    "#Check if any null values are present in the dataset\n",
    "df.isnull().sum()"
   ]
  },
  {
   "cell_type": "code",
   "execution_count": 22,
   "metadata": {},
   "outputs": [
    {
     "data": {
      "text/plain": [
       "(180740, 2)"
      ]
     },
     "execution_count": 22,
     "metadata": {},
     "output_type": "execute_result"
    }
   ],
   "source": [
    "# Remove the null fields\n",
    "df = df.dropna()\n",
    "df.shape"
   ]
  },
  {
   "cell_type": "code",
   "execution_count": 23,
   "metadata": {},
   "outputs": [
    {
     "data": {
      "text/html": [
       "<div>\n",
       "<style scoped>\n",
       "    .dataframe tbody tr th:only-of-type {\n",
       "        vertical-align: middle;\n",
       "    }\n",
       "\n",
       "    .dataframe tbody tr th {\n",
       "        vertical-align: top;\n",
       "    }\n",
       "\n",
       "    .dataframe thead th {\n",
       "        text-align: right;\n",
       "    }\n",
       "</style>\n",
       "<table border=\"1\" class=\"dataframe\">\n",
       "  <thead>\n",
       "    <tr style=\"text-align: right;\">\n",
       "      <th></th>\n",
       "      <th>label</th>\n",
       "      <th>value</th>\n",
       "    </tr>\n",
       "  </thead>\n",
       "  <tbody>\n",
       "    <tr>\n",
       "      <th>0</th>\n",
       "      <td>address</td>\n",
       "      <td>s/o saminathan28/3 nagar 3rd , street, korattu...</td>\n",
       "    </tr>\n",
       "    <tr>\n",
       "      <th>1</th>\n",
       "      <td>address</td>\n",
       "      <td>flat 6 ird main 4h nagar, mookordapalli, 635126</td>\n",
       "    </tr>\n",
       "    <tr>\n",
       "      <th>2</th>\n",
       "      <td>address</td>\n",
       "      <td>1169 kaviyarasu kannadasan nagar kodungaiyur ...</td>\n",
       "    </tr>\n",
       "    <tr>\n",
       "      <th>3</th>\n",
       "      <td>address</td>\n",
       "      <td>1568 bhagavath 21. nedumkadu thiruvananthapur...</td>\n",
       "    </tr>\n",
       "    <tr>\n",
       "      <th>4</th>\n",
       "      <td>address</td>\n",
       "      <td>22 nehru colony kumarapalnvam coimbatore ici ...</td>\n",
       "    </tr>\n",
       "  </tbody>\n",
       "</table>\n",
       "</div>"
      ],
      "text/plain": [
       "     label                                              value\n",
       "0  address  s/o saminathan28/3 nagar 3rd , street, korattu...\n",
       "1  address    flat 6 ird main 4h nagar, mookordapalli, 635126\n",
       "2  address   1169 kaviyarasu kannadasan nagar kodungaiyur ...\n",
       "3  address   1568 bhagavath 21. nedumkadu thiruvananthapur...\n",
       "4  address   22 nehru colony kumarapalnvam coimbatore ici ..."
      ]
     },
     "execution_count": 23,
     "metadata": {},
     "output_type": "execute_result"
    }
   ],
   "source": [
    "df.head()"
   ]
  },
  {
   "cell_type": "markdown",
   "metadata": {},
   "source": [
    "The label field consist of categorical data, hence need to be converted to numerical data <br>\n",
    "\n",
    "0 -----------> Address <br>\n",
    "1 -----------> Name"
   ]
  },
  {
   "cell_type": "code",
   "execution_count": 26,
   "metadata": {},
   "outputs": [
    {
     "data": {
      "text/html": [
       "<div>\n",
       "<style scoped>\n",
       "    .dataframe tbody tr th:only-of-type {\n",
       "        vertical-align: middle;\n",
       "    }\n",
       "\n",
       "    .dataframe tbody tr th {\n",
       "        vertical-align: top;\n",
       "    }\n",
       "\n",
       "    .dataframe thead th {\n",
       "        text-align: right;\n",
       "    }\n",
       "</style>\n",
       "<table border=\"1\" class=\"dataframe\">\n",
       "  <thead>\n",
       "    <tr style=\"text-align: right;\">\n",
       "      <th></th>\n",
       "      <th>label</th>\n",
       "      <th>value</th>\n",
       "    </tr>\n",
       "  </thead>\n",
       "  <tbody>\n",
       "    <tr>\n",
       "      <th>0</th>\n",
       "      <td>0</td>\n",
       "      <td>s/o saminathan28/3 nagar 3rd , street, korattu...</td>\n",
       "    </tr>\n",
       "    <tr>\n",
       "      <th>1</th>\n",
       "      <td>0</td>\n",
       "      <td>flat 6 ird main 4h nagar, mookordapalli, 635126</td>\n",
       "    </tr>\n",
       "    <tr>\n",
       "      <th>2</th>\n",
       "      <td>0</td>\n",
       "      <td>1169 kaviyarasu kannadasan nagar kodungaiyur ...</td>\n",
       "    </tr>\n",
       "    <tr>\n",
       "      <th>3</th>\n",
       "      <td>0</td>\n",
       "      <td>1568 bhagavath 21. nedumkadu thiruvananthapur...</td>\n",
       "    </tr>\n",
       "    <tr>\n",
       "      <th>4</th>\n",
       "      <td>0</td>\n",
       "      <td>22 nehru colony kumarapalnvam coimbatore ici ...</td>\n",
       "    </tr>\n",
       "  </tbody>\n",
       "</table>\n",
       "</div>"
      ],
      "text/plain": [
       "   label                                              value\n",
       "0      0  s/o saminathan28/3 nagar 3rd , street, korattu...\n",
       "1      0    flat 6 ird main 4h nagar, mookordapalli, 635126\n",
       "2      0   1169 kaviyarasu kannadasan nagar kodungaiyur ...\n",
       "3      0   1568 bhagavath 21. nedumkadu thiruvananthapur...\n",
       "4      0   22 nehru colony kumarapalnvam coimbatore ici ..."
      ]
     },
     "execution_count": 26,
     "metadata": {},
     "output_type": "execute_result"
    }
   ],
   "source": [
    "# Mapping of the categorical fields 0 to address and \n",
    "df['label'] = df.label.map({'address':0, 'name':1})\n",
    "df.head() # returns (rows, columns)\n"
   ]
  },
  {
   "cell_type": "code",
   "execution_count": 27,
   "metadata": {},
   "outputs": [
    {
     "name": "stdout",
     "output_type": "stream",
     "text": [
      "Number of rows in the total set: 180740\n",
      "Number of rows in the training set: 135555\n",
      "Number of rows in the test set: 45185\n"
     ]
    }
   ],
   "source": [
    "# split into training and testing sets\n",
    "from sklearn.model_selection import train_test_split\n",
    "\n",
    "X_train, X_test, y_train, y_test = train_test_split(df['value'], \n",
    "                                                    df['label'], \n",
    "                                                    random_state=1)\n",
    "\n",
    "print('Number of rows in the total set: {}'.format(df.shape[0]))\n",
    "print('Number of rows in the training set: {}'.format(X_train.shape[0]))\n",
    "print('Number of rows in the test set: {}'.format(X_test.shape[0]))"
   ]
  },
  {
   "cell_type": "code",
   "execution_count": 28,
   "metadata": {},
   "outputs": [],
   "source": [
    "# Instantiate the CountVectorizer method\n",
    "from sklearn.feature_extraction.text import CountVectorizer\n",
    "count_vector = CountVectorizer()\n",
    "\n",
    "# Fit the training data and then return the matrix\n",
    "training_data = count_vector.fit_transform(X_train)\n",
    "\n",
    "# Transform testing data and return the matrix. Note we are not fitting the testing data into the CountVectorizer()\n",
    "testing_data = count_vector.transform(X_test)"
   ]
  },
  {
   "cell_type": "code",
   "execution_count": 29,
   "metadata": {},
   "outputs": [
    {
     "data": {
      "text/plain": [
       "MultinomialNB(alpha=1.0, class_prior=None, fit_prior=True)"
      ]
     },
     "execution_count": 29,
     "metadata": {},
     "output_type": "execute_result"
    }
   ],
   "source": [
    "from sklearn.naive_bayes import MultinomialNB\n",
    "naive_bayes = MultinomialNB()\n",
    "naive_bayes.fit(training_data, y_train)"
   ]
  },
  {
   "cell_type": "code",
   "execution_count": 30,
   "metadata": {},
   "outputs": [],
   "source": [
    "predictions = naive_bayes.predict(testing_data)"
   ]
  },
  {
   "cell_type": "code",
   "execution_count": 31,
   "metadata": {},
   "outputs": [
    {
     "name": "stdout",
     "output_type": "stream",
     "text": [
      "Accuracy score:  0.9743277636383756\n",
      "Precision score:  0.9929864253393665\n",
      "Recall score:  0.9702204256931725\n",
      "F1 score:  0.9814714244641088\n",
      "[[13302   217]\n",
      " [  943 30723]]\n",
      "              precision    recall  f1-score   support\n",
      "\n",
      "           0       0.93      0.98      0.96     13519\n",
      "           1       0.99      0.97      0.98     31666\n",
      "\n",
      "    accuracy                           0.97     45185\n",
      "   macro avg       0.96      0.98      0.97     45185\n",
      "weighted avg       0.98      0.97      0.97     45185\n",
      "\n"
     ]
    }
   ],
   "source": [
    "\n",
    "from sklearn.metrics import classification_report,accuracy_score, precision_score, recall_score, f1_score, confusion_matrix\n",
    "print('Accuracy score: ', format(accuracy_score(y_test, predictions)))\n",
    "print('Precision score: ', format(precision_score(y_test, predictions)))\n",
    "print('Recall score: ', format(recall_score(y_test, predictions)))\n",
    "print('F1 score: ', format(f1_score(y_test, predictions)))\n",
    "print(confusion_matrix(y_test, predictions))\n",
    "print(classification_report(y_test,predictions))\n"
   ]
  },
  {
   "cell_type": "code",
   "execution_count": 32,
   "metadata": {},
   "outputs": [
    {
     "name": "stdout",
     "output_type": "stream",
     "text": [
      "name\n"
     ]
    }
   ],
   "source": [
    "name = 'Ram Kumar'\n",
    "names = [name,]\n",
    "names = count_vector.transform(names)\n",
    "value = naive_bayes.predict(names)\n",
    "if value[0] == 0:\n",
    "    print(\"address\")\n",
    "else:\n",
    "    print(\"name\")"
   ]
  },
  {
   "cell_type": "code",
   "execution_count": 33,
   "metadata": {},
   "outputs": [],
   "source": [
    "address_list = [\"Brockton Avenue\",\"30 Memorial Drive, Avon MA 2322\",\"250 Hartford Avenue, Bellingham MA 2019\",\"700 Oak Street, Brockton MA 2301\"]"
   ]
  },
  {
   "cell_type": "code",
   "execution_count": 37,
   "metadata": {},
   "outputs": [],
   "source": [
    "address = count_vector.transform(address_list)\n",
    "prediction_value = naive_bayes.predict(address)\n",
    "prob = naive_bayes.predict_proba(address)\n"
   ]
  },
  {
   "cell_type": "code",
   "execution_count": 38,
   "metadata": {},
   "outputs": [
    {
     "name": "stdout",
     "output_type": "stream",
     "text": [
      "Output of the Classifier\n",
      "Count of address classified 4\n",
      "+-----------------------------------------+------------+---------------------------------+\n",
      "|                  Input                  | Prediction |           Probability           |\n",
      "+-----------------------------------------+------------+---------------------------------+\n",
      "|             Brockton Avenue             |  address   |     [0.90955321 0.09044679]     |\n",
      "|     30 Memorial Drive, Avon MA 2322     |  address   | [9.99260216e-01 7.39784309e-04] |\n",
      "| 250 Hartford Avenue, Bellingham MA 2019 |  address   | [9.99899853e-01 1.00146942e-04] |\n",
      "|     700 Oak Street, Brockton MA 2301    |  address   |     [0.95835025 0.04164975]     |\n",
      "+-----------------------------------------+------------+---------------------------------+\n"
     ]
    }
   ],
   "source": [
    "from prettytable import PrettyTable\n",
    "table = PrettyTable([\"Input\", \"Prediction\", \"Probability\"])\n",
    "count_name = 0\n",
    "count_address = 0\n",
    "for addr,pred,prob in zip(address_list,prediction_value,prob):\n",
    "    if pred == 0:\n",
    "        count_address = count_address + 1\n",
    "    table.add_row([addr,\"address\" if pred == 0 else \"name\",prob])\n",
    "\n",
    "print(\"Output of the Classifier\")\n",
    "print(\"Count of address classified\", count_address)\n",
    "print(table)"
   ]
  },
  {
   "cell_type": "code",
   "execution_count": 39,
   "metadata": {},
   "outputs": [],
   "source": [
    "indian_names = ['Pranav','Manali','Sakshi','Darshan']"
   ]
  },
  {
   "cell_type": "code",
   "execution_count": 41,
   "metadata": {},
   "outputs": [],
   "source": [
    "indian_names_list = count_vector.transform(indian_names)\n",
    "prediction_value = naive_bayes.predict(indian_names_list)\n",
    "prob = naive_bayes.predict_proba(indian_names_list)\n"
   ]
  },
  {
   "cell_type": "code",
   "execution_count": 42,
   "metadata": {},
   "outputs": [
    {
     "name": "stdout",
     "output_type": "stream",
     "text": [
      "Output of the Classifier\n",
      "Count of address classified 4\n",
      "+---------+------------+-------------------------+\n",
      "|  Input  | Prediction |       Probability       |\n",
      "+---------+------------+-------------------------+\n",
      "|  Pranav |    name    | [0.02481993 0.97518007] |\n",
      "|  Manali |    name    |  [0.4161081 0.5838919]  |\n",
      "|  Sakshi |    name    | [0.03615171 0.96384829] |\n",
      "| Darshan |    name    | [0.41898625 0.58101375] |\n",
      "+---------+------------+-------------------------+\n"
     ]
    }
   ],
   "source": [
    "from prettytable import PrettyTable\n",
    "table = PrettyTable([\"Input\", \"Prediction\", \"Probability\"])\n",
    "count_name = 0\n",
    "for name,pred,prob in zip(indian_names,prediction_value,prob):\n",
    "    if pred == 1:\n",
    "        count_name = count_name + 1\n",
    "    table.add_row([name,\"address\" if pred == 0 else \"name\",prob])\n",
    "\n",
    "print(\"Output of the Classifier\")\n",
    "print(\"Count of address classified\", count_name)\n",
    "print(table)"
   ]
  },
  {
   "cell_type": "code",
   "execution_count": null,
   "metadata": {},
   "outputs": [],
   "source": []
  }
 ],
 "metadata": {
  "kernelspec": {
   "display_name": "Python 3",
   "language": "python",
   "name": "python3"
  },
  "language_info": {
   "codemirror_mode": {
    "name": "ipython",
    "version": 3
   },
   "file_extension": ".py",
   "mimetype": "text/x-python",
   "name": "python",
   "nbconvert_exporter": "python",
   "pygments_lexer": "ipython3",
   "version": "3.6.10"
  }
 },
 "nbformat": 4,
 "nbformat_minor": 1
}
